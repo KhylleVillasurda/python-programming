{
 "cells": [
  {
   "cell_type": "markdown",
   "id": "37230562-8b16-4a6c-8fb2-a32467b3f678",
   "metadata": {},
   "source": [
    "# Chapter 5\n",
    "Khylle P. Villasurda"
   ]
  },
  {
   "cell_type": "markdown",
   "id": "f34e1520-2034-4687-99a2-ab367a1aaba7",
   "metadata": {},
   "source": [
    "## |---Page 17---|"
   ]
  },
  {
   "cell_type": "code",
   "execution_count": 7,
   "id": "7962e25c-b4e4-43bb-a38e-3e391447f633",
   "metadata": {},
   "outputs": [
    {
     "name": "stdout",
     "output_type": "stream",
     "text": [
      "Second\n"
     ]
    }
   ],
   "source": [
    "cardinal_numbers = (\"First\", \"Second\", \"Third\")\n",
    "print(cardinal_numbers[1])"
   ]
  },
  {
   "cell_type": "code",
   "execution_count": 8,
   "id": "5be28b70-bfed-46b0-9fb2-c39cd7aed00a",
   "metadata": {},
   "outputs": [
    {
     "name": "stdout",
     "output_type": "stream",
     "text": [
      "First Second Third\n"
     ]
    }
   ],
   "source": [
    "cardinal_numbers = (\"First\", \"Second\", \"Third\")\n",
    "position1, position2, position3 = cardinal_numbers\n",
    "print(position1, position2, position3)"
   ]
  },
  {
   "cell_type": "code",
   "execution_count": 13,
   "id": "35d5ee9a-c47a-41cc-9cf6-4ae5251dacd9",
   "metadata": {},
   "outputs": [
    {
     "name": "stdout",
     "output_type": "stream",
     "text": [
      "('K', 'h', 'y', 'l', 'l', 'e')\n",
      "Is there a x in my name? False\n",
      "Sliced:  ('K',)\n"
     ]
    }
   ],
   "source": [
    "my_name = \"Khylle\"\n",
    "print(tuple(my_name))\n",
    "print(\"Is there a x in my name?\", \"x\" in my_name)\n",
    "print(\"Sliced: \", tuple(my_name[0:1]))"
   ]
  },
  {
   "cell_type": "markdown",
   "id": "a43179de-d6d2-415b-91cf-a22265046426",
   "metadata": {},
   "source": [
    "## |---Page 36---|"
   ]
  },
  {
   "cell_type": "code",
   "execution_count": 35,
   "id": "fe7b6cbc-2ce3-4333-bf48-b8ae1da63ae4",
   "metadata": {},
   "outputs": [
    {
     "name": "stdout",
     "output_type": "stream",
     "text": [
      "The first two items:  ['Rice', 'Beans']\n",
      "The last item on the list:  Broccoli\n"
     ]
    }
   ],
   "source": [
    "food = [\"Rice\", \"Beans\"]\n",
    "food.append(\"Broccoli\")\n",
    "food.extend([\"BREAD\", \"PIZZA\"])\n",
    "print(\"The first two items: \",food[0:2])\n",
    "print(\"The last item on the list: \", food[2])\n"
   ]
  },
  {
   "cell_type": "code",
   "execution_count": 38,
   "id": "4586cf6b-9e23-43cf-8d8a-5aafad548dba",
   "metadata": {},
   "outputs": [
    {
     "name": "stdout",
     "output_type": "stream",
     "text": [
      "['Eggs', 'Fruits', 'Orange Juice']\n",
      "[4, 6, 12]\n",
      "The breakfast items contains atleast 3 items\n"
     ]
    }
   ],
   "source": [
    "breakfast = \"Eggs, Fruits, Orange Juice\".split(\", \")\n",
    "print(breakfast)\n",
    "length = [len(item) for item in breakfast]\n",
    "print(length)\n",
    "if len(breakfast) == 3:\n",
    "    print(\"The breakfast items contains atleast 3 items\")\n",
    "else: \n",
    "    print(\"Either its greater or less than 3\")"
   ]
  },
  {
   "cell_type": "markdown",
   "id": "bc116756-1c47-43ce-9ef9-a8395fd64ee2",
   "metadata": {},
   "source": [
    "## |---Page 57---|"
   ]
  },
  {
   "cell_type": "code",
   "execution_count": null,
   "id": "ac786ba1-3283-4930-978a-741f241b8da7",
   "metadata": {},
   "outputs": [],
   "source": [
    "captains = {\n",
    "    \"Enterprise\": \"Picard\",\n",
    "    \"Voyager\":\"Janeway\",\n",
    "    \"Defiant\",\"Sisko\"\n",
    "}"
   ]
  }
 ],
 "metadata": {
  "kernelspec": {
   "display_name": "Python 3 (ipykernel)",
   "language": "python",
   "name": "python3"
  },
  "language_info": {
   "codemirror_mode": {
    "name": "ipython",
    "version": 3
   },
   "file_extension": ".py",
   "mimetype": "text/x-python",
   "name": "python",
   "nbconvert_exporter": "python",
   "pygments_lexer": "ipython3",
   "version": "3.13.5"
  }
 },
 "nbformat": 4,
 "nbformat_minor": 5
}
