{
 "cells": [
  {
   "cell_type": "markdown",
   "id": "ede16540-122e-434b-af13-036df6d2fb7a",
   "metadata": {},
   "source": [
    "# 1st Long Exam Sept 10,2025\n",
    "\n",
    "Khylle P. Villasurda 23760457"
   ]
  },
  {
   "cell_type": "markdown",
   "id": "99469143-b38f-43da-8514-0b81edb4562c",
   "metadata": {},
   "source": [
    "# QUESTION 1"
   ]
  },
  {
   "cell_type": "code",
   "execution_count": 1,
   "id": "85fadbc2-6d34-4579-bdcc-c68139286490",
   "metadata": {},
   "outputs": [
    {
     "name": "stdin",
     "output_type": "stream",
     "text": [
      "Enter your name:  Khylle\n"
     ]
    },
    {
     "name": "stdout",
     "output_type": "stream",
     "text": [
      "Hello Khylle\n"
     ]
    }
   ],
   "source": [
    "user_name = input(\"Enter your name: \")\n",
    "print(\"Hello\", user_name)"
   ]
  },
  {
   "cell_type": "markdown",
   "id": "99288b4f-dc2c-41b4-af78-045a3c765be7",
   "metadata": {},
   "source": [
    "# QUESTION 2"
   ]
  },
  {
   "cell_type": "code",
   "execution_count": 3,
   "id": "cb901906-78df-4703-8f8e-78d84a04288c",
   "metadata": {},
   "outputs": [
    {
     "name": "stdin",
     "output_type": "stream",
     "text": [
      "Please input a positive integer:  10\n"
     ]
    },
    {
     "name": "stdout",
     "output_type": "stream",
     "text": [
      "Results:  55.0\n"
     ]
    }
   ],
   "source": [
    "n = int(input(\"Please input a positive integer: \"))\n",
    "sum = n * (n + 1) / 2\n",
    "if n > 0:\n",
    "    print(\"Results: \", sum)\n",
    "else:\n",
    "    print(\"Invalid Input\")"
   ]
  },
  {
   "cell_type": "markdown",
   "id": "a3191ee8-c239-4f13-8b15-d658adb822ba",
   "metadata": {},
   "source": [
    "# QUESTION 3"
   ]
  },
  {
   "cell_type": "code",
   "execution_count": 9,
   "id": "f1087f19-9d47-4a54-b50e-b67bc3673097",
   "metadata": {},
   "outputs": [
    {
     "name": "stdin",
     "output_type": "stream",
     "text": [
      "Enter a vowel or constant A\n"
     ]
    },
    {
     "name": "stdout",
     "output_type": "stream",
     "text": [
      "It's a vowel!\n"
     ]
    }
   ],
   "source": [
    "x = input(\"Enter a vowel or constant\")\n",
    "res = x.lower()\n",
    "if res == \"a\" or res == \"e\" or res == \"i\" or res == \"o\" or res == \"u\":\n",
    "    print(\"It's a vowel!\")\n",
    "elif res == \"y\":\n",
    "    print(\"Sometimes y can either be constant or vowel\")\n",
    "else:\n",
    "    print(\"It's a constant\")"
   ]
  },
  {
   "cell_type": "markdown",
   "id": "de1ee5d0-3c85-478c-b660-4dd51dca93d7",
   "metadata": {},
   "source": [
    "# Question 5"
   ]
  },
  {
   "cell_type": "code",
   "execution_count": 8,
   "id": "3b5b57c2-3904-4250-b00f-b92d17945a79",
   "metadata": {},
   "outputs": [
    {
     "name": "stdin",
     "output_type": "stream",
     "text": [
      "Enter the first short side:  20\n",
      "Enter the second side:  30\n"
     ]
    },
    {
     "name": "stdout",
     "output_type": "stream",
     "text": [
      "Results:  36.05551275463989\n"
     ]
    }
   ],
   "source": [
    "def hypo(s1, s2):\n",
    "    h = (s1 ** 2 + s2 ** 2) ** 0.5\n",
    "    return h\n",
    "\n",
    "s1 = int(input(\"Enter the first short side: \"))\n",
    "s2 = int(input(\"Enter the second side: \"))\n",
    "print(\"Results: \", hypo(s1, s2))"
   ]
  }
 ],
 "metadata": {
  "kernelspec": {
   "display_name": "Python 3 (ipykernel)",
   "language": "python",
   "name": "python3"
  },
  "language_info": {
   "codemirror_mode": {
    "name": "ipython",
    "version": 3
   },
   "file_extension": ".py",
   "mimetype": "text/x-python",
   "name": "python",
   "nbconvert_exporter": "python",
   "pygments_lexer": "ipython3",
   "version": "3.13.5"
  }
 },
 "nbformat": 4,
 "nbformat_minor": 5
}
