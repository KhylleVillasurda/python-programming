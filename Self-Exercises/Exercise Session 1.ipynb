{
 "cells": [
  {
   "cell_type": "markdown",
   "id": "92584891-7d50-45d1-a5a3-9b151e7e4712",
   "metadata": {},
   "source": [
    "|---Exercise 1.1: String Manipulation Exercise---|"
   ]
  },
  {
   "cell_type": "code",
   "execution_count": 3,
   "id": "319d1768-d2a3-4329-80c7-6d0444f60523",
   "metadata": {},
   "outputs": [
    {
     "name": "stdin",
     "output_type": "stream",
     "text": [
      "Enter your First Name:  Khylle\n",
      "Enter your Last Name:  Villasurda\n",
      "Would you like to enter middle name? Enter y/n:  y\n"
     ]
    },
    {
     "name": "stdout",
     "output_type": "stream",
     "text": [
      " \n"
     ]
    },
    {
     "name": "stdin",
     "output_type": "stream",
     "text": [
      "Please enter middle initial:  P.\n"
     ]
    },
    {
     "name": "stdout",
     "output_type": "stream",
     "text": [
      "Final Output:  Khylle P. Villasurda\n",
      "Length:  20\n",
      "Reversed:  adrusalliV .P ellyhK\n",
      "Initials:  KVP\n"
     ]
    }
   ],
   "source": [
    "first_name = input(\"Enter your First Name: \")\n",
    "last_name = input(\"Enter your Last Name: \")\n",
    "user_decision = input(\"Would you like to enter middle name? Enter y/n: \")\n",
    "print(\" \")\n",
    "decision = user_decision.lower()\n",
    "\n",
    "if decision == \"y\":\n",
    "  middle_ini = input(\"Please enter middle initial: \")\n",
    "  final_a = (first_name +\" \"+ middle_ini +\" \"+ last_name)\n",
    "  revA = final_a [::-1]\n",
    "  initials_y = (first_name.upper()[0:1] + last_name.upper()[0:1] + middle_ini.upper()[0:1])\n",
    "  print(\"Final Output: \", final_a)\n",
    "  print(\"Length: \", len(final_a))\n",
    "  print(\"Reversed: \", revA)\n",
    "  print(\"Initials: \", initials_y)\n",
    "elif decision == \"n\":\n",
    "  initials_n = (first_name.upper()[0:1] + last_name.upper()[0:1])\n",
    "  final_b = (first_name +\" \"+ last_name)\n",
    "  revB = final_b [::-1]\n",
    "  print(\"Final Output: \", final_b)\n",
    "  print(\"Length: \", len(final_b))\n",
    "  print(\"Reversed: \", revB)\n",
    "  print(\"Initials: \", initials_n)\n",
    "else: \n",
    "    print(\"Exiting Program, Error: Invalid Input\")"
   ]
  },
  {
   "cell_type": "markdown",
   "id": "35240437-440d-4e49-a179-0d79b4b2c25d",
   "metadata": {},
   "source": [
    "|---Exercise 1.2: Password Strength Checker---|"
   ]
  },
  {
   "cell_type": "code",
   "execution_count": 20,
   "id": "0c2e4f48-e511-4af1-a53a-0e453ff1e1c4",
   "metadata": {},
   "outputs": [
    {
     "name": "stdin",
     "output_type": "stream",
     "text": [
      "Input a password:  0oasd\n"
     ]
    },
    {
     "name": "stdout",
     "output_type": "stream",
     "text": [
      "Invalid Format\n"
     ]
    }
   ],
   "source": [
    "# Be at least 8 characters long\n",
    "# Contain both uppercase and lowercase letters\n",
    "# Not start with a number  \n",
    "#I can't seem to make it work with startswith() function so I made it to isalpha() instead\n",
    "password = input(\"Input a password: \")\n",
    "\n",
    "if len(password) == 8 and password.isupper() is False and password.islower() is False and password[0].isalpha():\n",
    "    print(\"Password Strength: Strong\")\n",
    "else: \n",
    "    print(\"Invalid Format\")"
   ]
  },
  {
   "cell_type": "markdown",
   "id": "0a8f44a3-e48c-4c65-b574-81727c22015c",
   "metadata": {},
   "source": [
    "|---Exercise 1.3: Text Replacer---|"
   ]
  },
  {
   "cell_type": "code",
   "execution_count": 23,
   "id": "49f24253-5be7-4f33-b017-5f9c9479dbad",
   "metadata": {},
   "outputs": [
    {
     "name": "stdin",
     "output_type": "stream",
     "text": [
      "Input either: hello, goodbye, friend Hello\n"
     ]
    },
    {
     "name": "stdout",
     "output_type": "stream",
     "text": [
      "sup\n"
     ]
    }
   ],
   "source": [
    "#Takes user input\n",
    "#Replaces common words with slang (you decide the replacements)\n",
    "#Shows both original and translated text\n",
    "\n",
    "inp = input(\"Input either: hello, goodbye, friend\")\n",
    "low = inp.lower()\n",
    "condition = low.replace(\"hello\", \"sup\").replace(\"goodbye\", \"peace out\").replace(\"friend\", \"bro\")\n",
    "print(condition)"
   ]
  },
  {
   "cell_type": "markdown",
   "id": "cac1954f-f631-49ba-a5d0-7ca175c642ea",
   "metadata": {},
   "source": [
    "|---Exercise 2.1: Scientific Calculator---|"
   ]
  },
  {
   "cell_type": "code",
   "execution_count": 38,
   "id": "04e8b94e-d690-4d65-930d-29fbd104e232",
   "metadata": {},
   "outputs": [
    {
     "name": "stdout",
     "output_type": "stream",
     "text": [
      "#Temperature Converter\n",
      "1. Celsius to Fahrenheit\n",
      "2. Fahrenheit to Celsius\n",
      "3. Celsius to Kelvin\n",
      "4. Exit\n"
     ]
    },
    {
     "name": "stdin",
     "output_type": "stream",
     "text": [
      "Choose the number of the desired operation:  4\n"
     ]
    },
    {
     "name": "stdout",
     "output_type": "stream",
     "text": [
      "Exiting Program\n"
     ]
    }
   ],
   "source": [
    "#Temperature Converter\n",
    "#1. Celsius to Fahrenheit\n",
    "#2. Fahrenheit to Celsius\n",
    "#3. Celsius to Kelvin\n",
    "#4. Exit\n",
    "#Choose option:\n",
    "print(\"#Temperature Converter\")\n",
    "print(\"1. Celsius to Fahrenheit\")\n",
    "print(\"2. Fahrenheit to Celsius\")\n",
    "print(\"3. Celsius to Kelvin\")\n",
    "print(\"4. Exit\")\n",
    "decision = int(input(\"Choose the number of the desired operation: \"))\n",
    "\n",
    "if decision == 1:\n",
    "    a = input(\"Enter a number to be converted from Celsius to Farenheit: \")\n",
    "    res_a = ((float(a) * float(1.8)) + float(32))\n",
    "    print(\"Celsius To Farenheit Conversion Complete!: \", res_a)\n",
    "elif decision == 2:\n",
    "    b = input(\"Enter a number to be converted from Farenheit to Celsius: \")\n",
    "    res_b = (((float(b) - float(32)) / float(1.8)))\n",
    "    print(\"Farenheit To Celsius Conversion Complete!: \", res_b)\n",
    "elif decision == 3:\n",
    "    c = input(\"Enter a number to be converted from Kelvin to Celsius: \")\n",
    "    res_c = (float(c) + float(273.15))\n",
    "    print(\"Celsius to Kelvin Conversion Complete!: \", res_c)\n",
    "else:\n",
    "    print(\"Exiting Program\")"
   ]
  },
  {
   "cell_type": "markdown",
   "id": "ba3eae72-1acc-40b9-8fa6-4eae5d4aa454",
   "metadata": {},
   "source": [
    "|---Exercise 2.3: Percentage Calculator---|"
   ]
  },
  {
   "cell_type": "code",
   "execution_count": 4,
   "id": "25e45d02-3625-486a-b2f5-b7040588c8eb",
   "metadata": {},
   "outputs": [
    {
     "name": "stdin",
     "output_type": "stream",
     "text": [
      "Enter the part of Percentage:  20\n",
      "Enter the whole of the Percentage:  50\n"
     ]
    },
    {
     "name": "stdout",
     "output_type": "stream",
     "text": [
      "40.0 %\n"
     ]
    }
   ],
   "source": [
    "part = int(input(\"Enter the part of Percentage: \"))\n",
    "whole = int(input(\"Enter the whole of the Percentage: \"))\n",
    "print((int(part)/int(whole)) * 100,\"%\")"
   ]
  },
  {
   "cell_type": "markdown",
   "id": "fad585ab-2594-4dd0-b187-42b4d0d5aeba",
   "metadata": {},
   "source": [
    "|---Exercise 3.1: Grade Calculator---|"
   ]
  },
  {
   "cell_type": "code",
   "execution_count": 18,
   "id": "04494e18-b23b-4543-a7cc-975933d0cd7d",
   "metadata": {},
   "outputs": [
    {
     "name": "stdin",
     "output_type": "stream",
     "text": [
      "Enter your score:  100\n"
     ]
    },
    {
     "name": "stdout",
     "output_type": "stream",
     "text": [
      "Letter to Equivalent to your score:  A\n",
      "You did a good job\n"
     ]
    }
   ],
   "source": [
    "score = int(input(\"Enter your score: \"))\n",
    "def letter_grade(score):\n",
    "    if score >= 90:\n",
    "        return \"A\"\n",
    "    elif score >= 80:\n",
    "        return \"B\"\n",
    "    elif score >= 70:\n",
    "        return \"C\"\n",
    "    elif score >= 60:\n",
    "        return \"D\"\n",
    "    else:\n",
    "        return \"F\"\n",
    "def grade_message(letter):\n",
    "    if score >= 90:\n",
    "        return \"You did a good job\"\n",
    "    elif score >= 80:\n",
    "        return \"Good work!, I know your studying\"\n",
    "    elif score >= 70:\n",
    "        return \"Try a little bit harder next time!\"\n",
    "    elif score >= 60:\n",
    "        return \"Please Study!\"\n",
    "    else:\n",
    "        return \"Fail!\"\n",
    "\n",
    "print(\"Letter to Equivalent to your score: \", letter_grade(score))\n",
    "print(grade_message(score))"
   ]
  },
  {
   "cell_type": "markdown",
   "id": "6cf3b9bf-7261-4948-a90b-d13a3e93dbe4",
   "metadata": {},
   "source": [
    "|---Exercise 3.2: Number Properties---|"
   ]
  },
  {
   "cell_type": "code",
   "execution_count": 38,
   "id": "7be97aa3-50a8-43ad-b8d0-6e30046bd628",
   "metadata": {},
   "outputs": [
    {
     "name": "stdin",
     "output_type": "stream",
     "text": [
      "Enter a sentence or word:  Loop-\n"
     ]
    },
    {
     "name": "stdout",
     "output_type": "stream",
     "text": [
      "Counted Vowels:  2\n",
      "Counted Constants:  2\n",
      "Number of digits:  0\n",
      "Number of special characters:  1\n"
     ]
    }
   ],
   "source": [
    "me_input = input(\"Enter a sentence or word: \")\n",
    "x = me_input.lower()\n",
    "resVow = x.count(\"a\") + x.count(\"e\") + x.count(\"i\") + x.count(\"o\") + x.count(\"u\")\n",
    "resConst = x.count(\"b\") + x.count(\"c\") + x.count(\"d\") + x.count(\"f\") + x.count(\"g\") + x.count(\"h\") + x.count(\"j\") + x.count(\"k\") + x.count(\"l\") + x.count(\"m\") + x.count(\"n\") + x.count(\"p\") + x.count(\"q\") + x.count(\"r\") + x.count(\"s\") + x.count(\"t\") + x.count(\"v\") + x.count(\"w\") + x.count(\"x\") + x.count(\"y\") + x.count(\"z\")\n",
    "digCount = x.count(\"0\") + x.count(\"1\") + x.count(\"2\") + x.count(\"3\") + x.count(\"4\") + x.count(\"5\") + x.count(\"6\") + x.count(\"7\") + x.count(\"8\") + x.count(\"9\")\n",
    "specialChar_count = len(x) - (resVow + resConst + digCount)\n",
    "def result():\n",
    "    print(\"Counted Vowels: \",resVow)\n",
    "    print(\"Counted Constants: \", resConst)\n",
    "    print(\"Number of digits: \", digCount)\n",
    "    print(\"Number of special characters: \", specialChar_count)\n",
    "\n",
    "result()"
   ]
  },
  {
   "cell_type": "code",
   "execution_count": null,
   "id": "2630d735-71d8-4afe-a68c-50e1d8954a27",
   "metadata": {},
   "outputs": [],
   "source": []
  }
 ],
 "metadata": {
  "kernelspec": {
   "display_name": "Python [conda env:base] *",
   "language": "python",
   "name": "conda-base-py"
  },
  "language_info": {
   "codemirror_mode": {
    "name": "ipython",
    "version": 3
   },
   "file_extension": ".py",
   "mimetype": "text/x-python",
   "name": "python",
   "nbconvert_exporter": "python",
   "pygments_lexer": "ipython3",
   "version": "3.13.5"
  }
 },
 "nbformat": 4,
 "nbformat_minor": 5
}
