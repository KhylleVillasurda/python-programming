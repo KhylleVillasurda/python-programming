{
 "cells": [
  {
   "cell_type": "code",
   "execution_count": 1,
   "id": "2aa485a8-628e-4bd3-b028-f0a0bf71fcba",
   "metadata": {},
   "outputs": [
    {
     "name": "stdout",
     "output_type": "stream",
     "text": [
      "2500000\n",
      "(25, 0, 0)\n"
     ]
    }
   ],
   "source": [
    "#Page 5 Question 1\n",
    "num1 = 25_000_00\n",
    "num2= 25,00,000\n",
    "\n",
    "print(num1)\n",
    "print(num2)\n"
   ]
  },
  {
   "cell_type": "code",
   "execution_count": 3,
   "id": "dea11929-845b-4ffc-8cb2-2770daa77912",
   "metadata": {},
   "outputs": [
    {
     "name": "stdout",
     "output_type": "stream",
     "text": [
      "175000.0\n"
     ]
    }
   ],
   "source": [
    "#Page 5 Question 2\n",
    "x = 1.75 * 10**5\n",
    "\n",
    "print(x)"
   ]
  },
  {
   "cell_type": "code",
   "execution_count": 16,
   "id": "2c3aaadf-b0f7-4797-b5ab-65dd6cc86798",
   "metadata": {},
   "outputs": [
    {
     "name": "stdout",
     "output_type": "stream",
     "text": [
      "inf\n"
     ]
    }
   ],
   "source": [
    "#Page 5 Question 3\n",
    "print(2e308)"
   ]
  },
  {
   "cell_type": "code",
   "execution_count": 21,
   "id": "699195cd-dacf-478f-9791-418f97a16e35",
   "metadata": {},
   "outputs": [
    {
     "name": "stdin",
     "output_type": "stream",
     "text": [
      "Enter a num 12\n",
      "Enter exp 12\n"
     ]
    },
    {
     "name": "stdout",
     "output_type": "stream",
     "text": [
      "12 to the power of 12 = 8916100448256.0\n"
     ]
    }
   ],
   "source": [
    "prompt = \"Enter a num\"\n",
    "base = input(prompt)\n",
    "prompt = \"Enter exp\"\n",
    "expo = input(prompt)\n",
    "\n",
    "result = float(base) ** float(expo)\n",
    "print(expo, \"to the power of\", base, \"=\", result )\n",
    "#Page 10"
   ]
  },
  {
   "cell_type": "code",
   "execution_count": 24,
   "id": "9cd1eb09-b058-48ed-b93a-978e7a7f2c97",
   "metadata": {},
   "outputs": [
    {
     "name": "stdin",
     "output_type": "stream",
     "text": [
      "Enter a float 12.777777\n"
     ]
    },
    {
     "name": "stdout",
     "output_type": "stream",
     "text": [
      "12.78\n"
     ]
    }
   ],
   "source": [
    "prompt = \"Enter a float\"\n",
    "num1 = input(prompt)\n",
    "\n",
    "res = round(float(num1),2)\n",
    "print(res)\n",
    "#Page 13 Question 1"
   ]
  },
  {
   "cell_type": "code",
   "execution_count": 27,
   "id": "2ccae0a3-7101-4529-bcc8-b3d05914f3f1",
   "metadata": {},
   "outputs": [
    {
     "name": "stdin",
     "output_type": "stream",
     "text": [
      "Enter a number -10\n"
     ]
    },
    {
     "name": "stdout",
     "output_type": "stream",
     "text": [
      "The absolute value of -10 is 10.0\n"
     ]
    }
   ],
   "source": [
    "prompt = \"Enter a number\"\n",
    "num1 = input(prompt)\n",
    "\n",
    "res = abs(float(num1))\n",
    "print(\"The absolute value of\", num1, \"is\", res)"
   ]
  },
  {
   "cell_type": "code",
   "execution_count": 28,
   "id": "6c0f1489-2aa1-4964-a5a7-2a99da673204",
   "metadata": {},
   "outputs": [
    {
     "name": "stdin",
     "output_type": "stream",
     "text": [
      "Enter a number 1.5\n",
      "Enter another number .5\n"
     ]
    },
    {
     "name": "stdout",
     "output_type": "stream",
     "text": [
      "The difference between 1.5 and 10.0 is an integer? True\n"
     ]
    }
   ],
   "source": [
    "prompt = \"Enter a number\"\n",
    "num1 = input(prompt)\n",
    "prompt = \"Enter another number\"\n",
    "num2 = input(prompt)\n",
    "\n",
    "result = float(num1) - float(num2)\n",
    "print(\"The difference between\", num1, \"and\", res, \"is an integer?\", result.is_integer())\n",
    "##Page 14"
   ]
  },
  {
   "cell_type": "code",
   "execution_count": 34,
   "id": "2cca65f8-e2f2-4635-a614-7099801d3ed3",
   "metadata": {},
   "outputs": [
    {
     "name": "stdout",
     "output_type": "stream",
     "text": [
      "1.147\n"
     ]
    }
   ],
   "source": [
    "res = float(3) ** float(.125)\n",
    "print(f\"{res:,.3f}\")\n",
    "#Page 18 Question 1"
   ]
  },
  {
   "cell_type": "code",
   "execution_count": 35,
   "id": "e085f2e3-f30e-4750-8cd4-179f120a901b",
   "metadata": {},
   "outputs": [
    {
     "name": "stdout",
     "output_type": "stream",
     "text": [
      "150,000.00\n"
     ]
    }
   ],
   "source": [
    "curr = 150000\n",
    "print(f\"{curr:,.2f}\")\n",
    "#Page 18 Question 2"
   ]
  },
  {
   "cell_type": "code",
   "execution_count": 42,
   "id": "e84be772-cd0d-492a-b60a-8c2f7c713f22",
   "metadata": {},
   "outputs": [
    {
     "name": "stdout",
     "output_type": "stream",
     "text": [
      "20%\n"
     ]
    }
   ],
   "source": [
    "res = int(2) / int(10)\n",
    "print(f\"{res:,.0%}\")\n",
    "#Page 18 Question 3"
   ]
  },
  {
   "cell_type": "code",
   "execution_count": null,
   "id": "53858370-b035-40ec-8d81-8f3139cd4693",
   "metadata": {},
   "outputs": [],
   "source": []
  }
 ],
 "metadata": {
  "kernelspec": {
   "display_name": "Python 3 (ipykernel)",
   "language": "python",
   "name": "python3"
  },
  "language_info": {
   "codemirror_mode": {
    "name": "ipython",
    "version": 3
   },
   "file_extension": ".py",
   "mimetype": "text/x-python",
   "name": "python",
   "nbconvert_exporter": "python",
   "pygments_lexer": "ipython3",
   "version": "3.13.5"
  }
 },
 "nbformat": 4,
 "nbformat_minor": 5
}
