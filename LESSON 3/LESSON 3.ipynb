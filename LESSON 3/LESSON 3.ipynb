{
 "cells": [
  {
   "cell_type": "markdown",
   "id": "f48a3272-a187-4201-aa38-237ea23278f9",
   "metadata": {},
   "source": [
    "|---Page 8 Exercise---|"
   ]
  },
  {
   "cell_type": "code",
   "execution_count": 8,
   "id": "b260f866-b028-4024-8c64-42a1d58f3be4",
   "metadata": {},
   "outputs": [
    {
     "name": "stdout",
     "output_type": "stream",
     "text": [
      "Value Raised to the power of 3:  125000\n"
     ]
    }
   ],
   "source": [
    "def cube(a): return a ** 3\n",
    "print(\"Value Raised to the power of 3: \", cube(50))"
   ]
  },
  {
   "cell_type": "code",
   "execution_count": 7,
   "id": "b14d3e05-794c-4d6d-b12c-5f6e3f86b34a",
   "metadata": {},
   "outputs": [
    {
     "name": "stdout",
     "output_type": "stream",
     "text": [
      "Hello! Khylle!\n"
     ]
    }
   ],
   "source": [
    "def greet(name): print(f\"Hello! {name}!\")\n",
    "greet(\"Khylle\")"
   ]
  },
  {
   "cell_type": "code",
   "execution_count": 21,
   "id": "38759978-a051-4993-b9d8-2e678cafc134",
   "metadata": {},
   "outputs": [
    {
     "name": "stdout",
     "output_type": "stream",
     "text": [
      "Enter the value of Celsius to be converted to Farenheit: \n"
     ]
    },
    {
     "name": "stdin",
     "output_type": "stream",
     "text": [
      " 37\n"
     ]
    },
    {
     "name": "stdout",
     "output_type": "stream",
     "text": [
      "The converted value is :  98.60000000000001 Farenheit\n"
     ]
    }
   ],
   "source": [
    "print(\"Enter the value of Celsius to be converted to Farenheit: \")\n",
    "cel = input()\n",
    "res = (float(cel) * float(1.8)) + float(32.0)\n",
    "print(\"The converted value is : \", res, \"Farenheit\")"
   ]
  },
  {
   "cell_type": "code",
   "execution_count": 62,
   "id": "76bca089-96b7-4155-a3ef-ee8a7b55a230",
   "metadata": {},
   "outputs": [
    {
     "name": "stdin",
     "output_type": "stream",
     "text": [
      "Enter a temperature in degrees F: 37\n"
     ]
    },
    {
     "name": "stdout",
     "output_type": "stream",
     "text": [
      "37 Degrees C = 98.60 Degrees F\n"
     ]
    }
   ],
   "source": [
    "def convert_cel_to_far(x): return (float(x) * float(1.8) + float(32.0))\n",
    "x_input = input(\"Enter a temperature in degrees F:\" )\n",
    "print(f\"{x_input} Degrees C = {convert_cel_to_far(x_input):.2f} Degrees F\")"
   ]
  },
  {
   "cell_type": "code",
   "execution_count": 61,
   "id": "575b18bc-0000-4078-88f9-ca23bf41a63e",
   "metadata": {},
   "outputs": [
    {
     "name": "stdin",
     "output_type": "stream",
     "text": [
      "Enter a temperature in degrees F: 72\n"
     ]
    },
    {
     "name": "stdout",
     "output_type": "stream",
     "text": [
      "72 Degrees F = 22.22 Degrees C\n"
     ]
    }
   ],
   "source": [
    "def convert_far_to_cel(x): return (float(x) - float(32)) / float(1.8)\n",
    "x_input = input(\"Enter a temperature in degrees F:\" )\n",
    "print(f\"{x_input} Degrees F = {convert_far_to_cel(x_input):.2f} Degrees C\")"
   ]
  },
  {
   "cell_type": "code",
   "execution_count": 66,
   "id": "1de28451-761c-4bd8-8370-6835d1ae5826",
   "metadata": {},
   "outputs": [
    {
     "name": "stdout",
     "output_type": "stream",
     "text": [
      "2\n",
      "3\n",
      "4\n",
      "5\n",
      "6\n",
      "7\n",
      "8\n",
      "9\n"
     ]
    }
   ],
   "source": [
    "for x in range(2, 10): print(x) "
   ]
  },
  {
   "cell_type": "code",
   "execution_count": 1,
   "id": "dbd1f536-a4b4-4a27-96fe-18122edfc996",
   "metadata": {},
   "outputs": [
    {
     "name": "stdout",
     "output_type": "stream",
     "text": [
      "2\n",
      "3\n",
      "4\n",
      "5\n",
      "6\n",
      "7\n",
      "8\n",
      "9\n"
     ]
    }
   ],
   "source": [
    "i = 2\n",
    "while i < 10:\n",
    "    print(i)\n",
    "    i += 1"
   ]
  },
  {
   "cell_type": "code",
   "execution_count": 5,
   "id": "1eb30daa-5180-44fa-9630-f18145aa6f5a",
   "metadata": {},
   "outputs": [
    {
     "name": "stdout",
     "output_type": "stream",
     "text": [
      "4\n",
      "8\n",
      "16\n"
     ]
    }
   ],
   "source": [
    "def doubles(x): return x * 2\n",
    "\n",
    "x = 2\n",
    "for i in range(1, 4):\n",
    "    print(doubles(x))\n",
    "    x += x"
   ]
  },
  {
   "cell_type": "code",
   "execution_count": null,
   "id": "640fd5df-3ba9-4c49-91dd-8486e9f2f363",
   "metadata": {},
   "outputs": [],
   "source": []
  }
 ],
 "metadata": {
  "kernelspec": {
   "display_name": "Python 3 (ipykernel)",
   "language": "python",
   "name": "python3"
  },
  "language_info": {
   "codemirror_mode": {
    "name": "ipython",
    "version": 3
   },
   "file_extension": ".py",
   "mimetype": "text/x-python",
   "name": "python",
   "nbconvert_exporter": "python",
   "pygments_lexer": "ipython3",
   "version": "3.13.5"
  }
 },
 "nbformat": 4,
 "nbformat_minor": 5
}
