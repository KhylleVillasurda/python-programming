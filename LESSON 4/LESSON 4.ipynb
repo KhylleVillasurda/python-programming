{
 "cells": [
  {
   "cell_type": "code",
   "execution_count": 22,
   "id": "80a15d2f-5202-4d61-a0d0-89ee41bdfb6a",
   "metadata": {},
   "outputs": [
    {
     "name": "stdin",
     "output_type": "stream",
     "text": [
      "Let's check if your input through various conditions:  1\n"
     ]
    },
    {
     "name": "stdout",
     "output_type": "stream",
     "text": [
      "The Following Results are:\n",
      " True \n",
      " False \n",
      " True\n"
     ]
    }
   ],
   "source": [
    "x = input(\"Let's check if your input through various conditions: \")\n",
    "res1 = int(x) <= 1\n",
    "res2 = int(x) != 1\n",
    "res3 = int(x) != 2\n",
    "def my_function(): print(\"The Following Results are:\\n\", res1, \"\\n\", res2, \"\\n\", res3)\n",
    "\n",
    "my_function()"
   ]
  },
  {
   "cell_type": "code",
   "execution_count": 29,
   "id": "7873cfca-f3c2-4096-901e-fdeb5baec5d7",
   "metadata": {},
   "outputs": [
    {
     "name": "stdin",
     "output_type": "stream",
     "text": [
      "Let's check if your input through various conditions: (Enter good or bad)\n",
      " good\n"
     ]
    },
    {
     "name": "stdout",
     "output_type": "stream",
     "text": [
      "The Following Results are:\n",
      " True \n",
      " False \n",
      "\n",
      "Bonus: Is 123 equal to '123'?  True\n"
     ]
    }
   ],
   "source": [
    "y = input(\"Let's check if your input through various conditions: (Enter good or bad)\\n\")\n",
    "resA = y != \"bad\"\n",
    "resB = y != \"good\"\n",
    "def my_function(): print(\"The Following Results are:\\n\", resA, \"\\n\", resB, \"\\n\")\n",
    "\n",
    "my_function()\n",
    "\n",
    "resC = 123 += \"123\"\n",
    "\n",
    "print(\"Bonus: Is 123 equal to '123'? \" , resC)"
   ]
  },
  {
   "cell_type": "markdown",
   "id": "a615c3ca-068f-4b6e-8688-3c651b51f053",
   "metadata": {},
   "source": [
    "No.2 Fill in the Blank\n",
    "3 > 4\n",
    "10 < 5\n",
    "\"jack\" != \"jill\"\n",
    "42 != \"42\""
   ]
  },
  {
   "cell_type": "code",
   "execution_count": 32,
   "id": "54ede95b-1204-45fb-ab2e-bffb2773b5ec",
   "metadata": {},
   "outputs": [
    {
     "name": "stdin",
     "output_type": "stream",
     "text": [
      "Let's check if your input if its less than or equal to 1 and to check the inverted result of it:(Input your Number)  2\n"
     ]
    },
    {
     "name": "stdout",
     "output_type": "stream",
     "text": [
      "The Following Results are:\n",
      " False \n",
      " True \n",
      "\n"
     ]
    }
   ],
   "source": [
    "z = input(\"Let's check if your input through various conditions:(Input your Number)\\n\")\n",
    "resE = int(z) <=1 and int(z) != 1\n",
    "resD = not (int(z) != 2)\n",
    "def my_function(): print(\"The Following Results are:\\n\", resE, \"\\n\", resD, \"\\n\")\n",
    "my_function()"
   ]
  },
  {
   "cell_type": "code",
   "execution_count": 38,
   "id": "dd54f571-385a-45d3-8aea-02359b65dc32",
   "metadata": {},
   "outputs": [
    {
     "name": "stdout",
     "output_type": "stream",
     "text": [
      "Is False equal to Not True?  True\n",
      "Is True and False equal to True and False?   True\n",
      "The result of not True equal is equal to? 'a' == 'b'   True\n"
     ]
    }
   ],
   "source": [
    "print(\"Is False equal to Not True? \", False == (not True))\n",
    "print(\"Is True and False equal to True and False?  \", True and False == (True and False))\n",
    "print(\"The result of not True equal is equal to? 'a' == 'b'  \", not True == \"a\" == \"b\")"
   ]
  },
  {
   "cell_type": "code",
   "execution_count": 40,
   "id": "adfd133c-268a-4fd8-aa44-64a272d2a9d2",
   "metadata": {},
   "outputs": [
    {
     "name": "stdin",
     "output_type": "stream",
     "text": [
      "Enter a word to have it evaluated with certain conditions:  Freddy Fazbear\n"
     ]
    },
    {
     "name": "stdout",
     "output_type": "stream",
     "text": [
      "The length is more than 5 characters!\n"
     ]
    }
   ],
   "source": [
    "inp = input(\"Enter a word to have it evaluated with certain conditions: \")\n",
    "resF = len(inp)\n",
    "\n",
    "if resF < 5: print(\"The length is less than 5 characters!\")\n",
    "elif resF == 5: print(\"The length is equal to 5\")\n",
    "elif resF > 5: print(\"The length is more than 5 characters!\")\n",
    "else: print(\"There is an error or bug in the code\")"
   ]
  },
  {
   "cell_type": "code",
   "execution_count": 48,
   "id": "8a884e27-e31b-4eed-b01b-d92a5ec8926e",
   "metadata": {},
   "outputs": [
    {
     "name": "stdin",
     "output_type": "stream",
     "text": [
      "You can enter Q to break the loop, otherwise I will break your pc looping infinitely\n",
      " q\n"
     ]
    },
    {
     "name": "stdout",
     "output_type": "stream",
     "text": [
      "Exiting Program\n"
     ]
    }
   ],
   "source": [
    "resG = input(\"You can enter Q to break the loop, otherwise I will break your pc looping infinitely\\n\")\n",
    "while True: \n",
    "    if resG.lower() == \"q\": \n",
    "        print(\"Exiting Program\") \n",
    "        break\n",
    "    else: print(\"\")\n"
   ]
  },
  {
   "cell_type": "code",
   "execution_count": 68,
   "id": "2ff9ef06-f872-4d91-93dd-70e323ae8e67",
   "metadata": {},
   "outputs": [
    {
     "name": "stdout",
     "output_type": "stream",
     "text": [
      "1\n",
      "2\n",
      "4\n",
      "5\n",
      "7\n",
      "8\n",
      "10\n",
      "11\n",
      "13\n",
      "14\n",
      "16\n",
      "17\n",
      "19\n",
      "20\n",
      "22\n",
      "23\n",
      "25\n",
      "26\n",
      "28\n",
      "29\n",
      "31\n",
      "32\n",
      "34\n",
      "35\n",
      "37\n",
      "38\n",
      "40\n",
      "41\n",
      "43\n",
      "44\n",
      "46\n",
      "47\n",
      "49\n",
      "50\n"
     ]
    }
   ],
   "source": [
    "for num in range(1, 51):\n",
    "    if num % 3 == 0:\n",
    "        continue\n",
    "    print(num)\n"
   ]
  },
  {
   "cell_type": "code",
   "execution_count": 72,
   "id": "76958278-a5b5-49ce-a395-1ba16df1269d",
   "metadata": {},
   "outputs": [
    {
     "name": "stdin",
     "output_type": "stream",
     "text": [
      "Enter an Integer: \n",
      " string\n"
     ]
    },
    {
     "name": "stdout",
     "output_type": "stream",
     "text": [
      "Something bad has happened no? Re-enter an integer\n"
     ]
    },
    {
     "name": "stdin",
     "output_type": "stream",
     "text": [
      "Enter an Integer: \n",
      " 9\n"
     ]
    },
    {
     "name": "stdout",
     "output_type": "stream",
     "text": [
      "Exiting Program\n"
     ]
    }
   ],
   "source": [
    "\n",
    "while True: \n",
    "    try:\n",
    "        resG = int(input(\"Enter an Integer: \\n\"))\n",
    "        print(\"Exiting Program\") \n",
    "        break\n",
    "    except ValueError:\n",
    "        print(\"Something bad has happened no? Re-enter an integer\")\n"
   ]
  },
  {
   "cell_type": "code",
   "execution_count": 78,
   "id": "abfaace6-bc13-4a99-aefa-5e2332854c44",
   "metadata": {},
   "outputs": [
    {
     "name": "stdin",
     "output_type": "stream",
     "text": [
      "Please input a word:  Hololive\n",
      "Please input a number:  2\n"
     ]
    },
    {
     "name": "stdout",
     "output_type": "stream",
     "text": [
      "The character at index 2 is l\n"
     ]
    }
   ],
   "source": [
    "x = input(\"Please input a word: \")\n",
    "y = int(input(\"Please input a number: \"))\n",
    "\n",
    "try: \n",
    "    print(f\"The character at index {y} is {x[y]}\")\n",
    "except IndexError:\n",
    "    print(\"Error occurred: Invalid index\")"
   ]
  },
  {
   "cell_type": "code",
   "execution_count": 88,
   "id": "4a3ed893-fead-458e-8d31-de1414e6e90f",
   "metadata": {},
   "outputs": [
    {
     "name": "stdout",
     "output_type": "stream",
     "text": [
      "The result of the random die is: 5\n"
     ]
    }
   ],
   "source": [
    "import random\n",
    "\n",
    "def roll():\n",
    "    return random.randint(1, 6)\n",
    "    \n",
    "result = roll()\n",
    "print(f\"The result of the random die is: {result}\")"
   ]
  },
  {
   "cell_type": "code",
   "execution_count": 90,
   "id": "59fa9953-c1a2-45e3-ae7b-2eb0849385e1",
   "metadata": {},
   "outputs": [
    {
     "name": "stdout",
     "output_type": "stream",
     "text": [
      "The result is: 3.54\n"
     ]
    }
   ],
   "source": [
    "import random\n",
    "\n",
    "def roll():\n",
    "    return random.randint(1, 6)\n",
    "\n",
    "rolls = [roll() for _ in range(1000)]\n",
    "avg_rolls = sum(rolls) / len(rolls)\n",
    "print(f\"The result is: {avg_rolls:.2f}\")"
   ]
  },
  {
   "cell_type": "code",
   "execution_count": null,
   "id": "52a6f013-08f6-4584-95f1-108f5d6acfe1",
   "metadata": {},
   "outputs": [],
   "source": []
  }
 ],
 "metadata": {
  "kernelspec": {
   "display_name": "Python [conda env:base] *",
   "language": "python",
   "name": "conda-base-py"
  },
  "language_info": {
   "codemirror_mode": {
    "name": "ipython",
    "version": 3
   },
   "file_extension": ".py",
   "mimetype": "text/x-python",
   "name": "python",
   "nbconvert_exporter": "python",
   "pygments_lexer": "ipython3",
   "version": "3.13.5"
  }
 },
 "nbformat": 4,
 "nbformat_minor": 5
}
