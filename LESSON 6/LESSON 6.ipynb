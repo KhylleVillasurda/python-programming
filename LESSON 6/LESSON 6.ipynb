{
 "cells": [
  {
   "cell_type": "markdown",
   "id": "a150d6f4-058e-43e0-9822-7a52395fa403",
   "metadata": {},
   "source": [
    "LESSON 6 Exercises\n",
    "\n",
    "Khylle P. Villasurda"
   ]
  },
  {
   "cell_type": "code",
   "execution_count": 6,
   "id": "29c62465-d542-4dd1-a6b6-f21a55a48066",
   "metadata": {},
   "outputs": [
    {
     "name": "stdout",
     "output_type": "stream",
     "text": [
      "Buddy is 3 years old\n",
      "Buddy says Bark\n",
      "Buddy says Woof\n"
     ]
    }
   ],
   "source": [
    "class Dog:\n",
    "    species = \"Canis familiaris\"\n",
    "\n",
    "    def __init__(self, name, age):\n",
    "        self.name = name\n",
    "        self.age = age\n",
    "\n",
    "    def __str__(self):\n",
    "        return f\"{self.name} is {self.age} years old\"\n",
    "\n",
    "    def speak(self, sound):\n",
    "        return f\"{self.name} says {sound}\"\n",
    "\n",
    "\n",
    "\n",
    "class GoldenRetriever(Dog):\n",
    "    def speak(self, sound=\"Bark\"):\n",
    "        return super().speak(sound)\n",
    "\n",
    "\n",
    "\n",
    "buddy = GoldenRetriever(\"Buddy\", 3)\n",
    "print(buddy)             \n",
    "print(buddy.speak())      \n",
    "print(buddy.speak(\"Woof\")) "
   ]
  },
  {
   "cell_type": "code",
   "execution_count": 7,
   "id": "c612c965-ce58-4606-aaaa-fc5824cc6764",
   "metadata": {},
   "outputs": [
    {
     "name": "stdout",
     "output_type": "stream",
     "text": [
      "Square area: 16\n"
     ]
    }
   ],
   "source": [
    "class Rectangle:\n",
    "    def __init__(self, length, width):\n",
    "        self.length = length\n",
    "        self.width = width\n",
    "\n",
    "    def area(self):\n",
    "        return self.length * self.width\n",
    "\n",
    "\n",
    "class Square(Rectangle):\n",
    "    def __init__(self, side_length):\n",
    "        # A square has equal length and width\n",
    "        super().__init__(side_length, side_length)\n",
    "\n",
    "\n",
    "\n",
    "square = Square(4)\n",
    "print(\"Square area:\", square.area())"
   ]
  },
  {
   "cell_type": "code",
   "execution_count": 8,
   "id": "c34cd97f-841e-4e79-9c5f-71a2c91c9a8f",
   "metadata": {},
   "outputs": [
    {
     "name": "stdout",
     "output_type": "stream",
     "text": [
      "Spike is 5 years old.\n",
      "Spike is eating.\n",
      "Spike barks: Woof!\n",
      "Tom is 3 years old.\n",
      "Tom is sleeping.\n",
      "Tom meows: Meow!\n",
      "Tweety is 1 years old.\n",
      "Tweety is eating.\n",
      "Tweety chirps: Tweet!\n",
      "Tweety is flying in the sky!\n"
     ]
    }
   ],
   "source": [
    "\n",
    "class Animal:\n",
    "    def __init__(self, name, age):\n",
    "        self.name = name\n",
    "        self.age = age\n",
    "    \n",
    "    def eat(self):\n",
    "        return f\"{self.name} is eating.\"\n",
    "    \n",
    "    def sleep(self):\n",
    "        return f\"{self.name} is sleeping.\"\n",
    "\n",
    "    def __str__(self):\n",
    "        return f\"{self.name} is {self.age} years old.\"\n",
    "\n",
    "class Dog(Animal):\n",
    "    def speak(self):\n",
    "        return f\"{self.name} barks: Woof!\"\n",
    "\n",
    "\n",
    "class Cat(Animal):\n",
    "    def speak(self):\n",
    "        return f\"{self.name} meows: Meow!\"\n",
    "\n",
    "\n",
    "class Bird(Animal):\n",
    "    def speak(self):\n",
    "        return f\"{self.name} chirps: Tweet!\"\n",
    "    \n",
    "    def fly(self):\n",
    "        return f\"{self.name} is flying in the sky!\"\n",
    "\n",
    "\n",
    "\n",
    "dog = Dog(\"Spike\", 5)\n",
    "cat = Cat(\"Tom\", 3)\n",
    "bird = Bird(\"Tweety\", 1)\n",
    "\n",
    "\n",
    "print(dog)             \n",
    "print(dog.eat())      \n",
    "print(dog.speak())     \n",
    "\n",
    "print(cat)             \n",
    "print(cat.sleep())     \n",
    "print(cat.speak())     \n",
    "\n",
    "print(bird)           \n",
    "print(bird.eat())      \n",
    "print(bird.speak())    \n",
    "print(bird.fly())      \n"
   ]
  },
  {
   "cell_type": "code",
   "execution_count": null,
   "id": "1fa79a98-e7c8-4b09-9cd3-101518c5f5a2",
   "metadata": {},
   "outputs": [],
   "source": []
  }
 ],
 "metadata": {
  "kernelspec": {
   "display_name": "Python [conda env:base] *",
   "language": "python",
   "name": "conda-base-py"
  },
  "language_info": {
   "codemirror_mode": {
    "name": "ipython",
    "version": 3
   },
   "file_extension": ".py",
   "mimetype": "text/x-python",
   "name": "python",
   "nbconvert_exporter": "python",
   "pygments_lexer": "ipython3",
   "version": "3.13.5"
  }
 },
 "nbformat": 4,
 "nbformat_minor": 5
}
