{
 "cells": [
  {
   "cell_type": "markdown",
   "id": "c0dd6bee-8abf-4b09-8055-e28cb17a09b8",
   "metadata": {},
   "source": [
    "#|---Review Questions Page 21---|"
   ]
  },
  {
   "cell_type": "code",
   "execution_count": 2,
   "id": "3acd7ebb-cbca-4825-8dad-968906fbbc69",
   "metadata": {},
   "outputs": [
    {
     "data": {
      "text/plain": [
       "25"
      ]
     },
     "execution_count": 2,
     "metadata": {},
     "output_type": "execute_result"
    }
   ],
   "source": [
    "str1 = \"Ako paba ang iniisip nya?\"\n",
    "len(str1)"
   ]
  },
  {
   "cell_type": "code",
   "execution_count": 4,
   "id": "0e30295b-84e6-49f3-9433-0f8cdda1c240",
   "metadata": {},
   "outputs": [
    {
     "data": {
      "text/plain": [
       "'Coco Martin'"
      ]
     },
     "execution_count": 4,
     "metadata": {},
     "output_type": "execute_result"
    }
   ],
   "source": [
    "str1 = \"Coco \"\n",
    "str2 = \"Martin\"\n",
    "res = str1 + str2\n",
    "res"
   ]
  },
  {
   "cell_type": "code",
   "execution_count": 5,
   "id": "a90609fe-610d-4f77-9de2-15190a9ac4c4",
   "metadata": {},
   "outputs": [
    {
     "data": {
      "text/plain": [
       "'Villasurda Khylle'"
      ]
     },
     "execution_count": 5,
     "metadata": {},
     "output_type": "execute_result"
    }
   ],
   "source": [
    "str1 = \"Khylle\"\n",
    "str2 = \"Villasurda\"\n",
    "res = str2 + \" \" + str1\n",
    "res"
   ]
  },
  {
   "cell_type": "code",
   "execution_count": 8,
   "id": "8e20899b-9e7b-4233-8e86-0f49737a056e",
   "metadata": {},
   "outputs": [
    {
     "data": {
      "text/plain": [
       "'fox'"
      ]
     },
     "execution_count": 8,
     "metadata": {},
     "output_type": "execute_result"
    }
   ],
   "source": [
    "para = \"The quick brown fox jumped over the lazy dog. #1234567890!\"\n",
    "para[16:19]"
   ]
  },
  {
   "cell_type": "markdown",
   "id": "c95ea37c-8012-4950-bba3-65a669257ab8",
   "metadata": {},
   "source": [
    "#|---Review Questions Page 25---|"
   ]
  },
  {
   "cell_type": "code",
   "execution_count": 14,
   "id": "420d4372-913e-47fd-8988-d8a7f03e74f7",
   "metadata": {},
   "outputs": [
    {
     "data": {
      "text/plain": [
       "'animals, bader, honeybee, honey badger'"
      ]
     },
     "execution_count": 14,
     "metadata": {},
     "output_type": "execute_result"
    }
   ],
   "source": [
    "str1 = \"Animals, Bader, HoneyBee, Honey Badger\"\n",
    "str1 = str1.lower()\n",
    "str1"
   ]
  },
  {
   "cell_type": "code",
   "execution_count": 15,
   "id": "47d8bf0d-755f-4ce5-b2dd-13667ef1f12d",
   "metadata": {},
   "outputs": [
    {
     "data": {
      "text/plain": [
       "'ANIMALS, BADER, HONEYBEE, HONEY BADGER'"
      ]
     },
     "execution_count": 15,
     "metadata": {},
     "output_type": "execute_result"
    }
   ],
   "source": [
    "str1 = \"Animals, Bader, HoneyBee, Honey Badger\"\n",
    "str1 = str1.upper()\n",
    "str1"
   ]
  },
  {
   "cell_type": "code",
   "execution_count": 19,
   "id": "1a58cbc1-bb45-4229-b243-ffd81595f585",
   "metadata": {},
   "outputs": [
    {
     "data": {
      "text/plain": [
       "'Filet Mignon'"
      ]
     },
     "execution_count": 19,
     "metadata": {},
     "output_type": "execute_result"
    }
   ],
   "source": [
    "string1= \" Filet Mignon\"\n",
    "string1.lstrip()\n"
   ]
  },
  {
   "cell_type": "code",
   "execution_count": 20,
   "id": "49c6db20-1d10-4933-b646-993665a8b1ae",
   "metadata": {},
   "outputs": [
    {
     "data": {
      "text/plain": [
       "'Brisket'"
      ]
     },
     "execution_count": 20,
     "metadata": {},
     "output_type": "execute_result"
    }
   ],
   "source": [
    "string2= \"Brisket \"\n",
    "string2.rstrip()"
   ]
  },
  {
   "cell_type": "code",
   "execution_count": 23,
   "id": "814d6dbd-cae5-4f2e-8abb-a29831aa739e",
   "metadata": {},
   "outputs": [
    {
     "data": {
      "text/plain": [
       "False"
      ]
     },
     "execution_count": 23,
     "metadata": {},
     "output_type": "execute_result"
    }
   ],
   "source": [
    "string1= \"Becomes\"\n",
    "string1.startswith(\"be\")"
   ]
  },
  {
   "cell_type": "code",
   "execution_count": 24,
   "id": "6fa76899-33c7-4732-a1ff-924b525a95ce",
   "metadata": {},
   "outputs": [
    {
     "data": {
      "text/plain": [
       "True"
      ]
     },
     "execution_count": 24,
     "metadata": {},
     "output_type": "execute_result"
    }
   ],
   "source": [
    "string2= \"becomes\"\n",
    "string2.startswith(\"be\")"
   ]
  },
  {
   "cell_type": "code",
   "execution_count": 33,
   "id": "725bae61-bf3c-4900-9e6b-0ab579f5a993",
   "metadata": {},
   "outputs": [
    {
     "data": {
      "text/plain": [
       "True"
      ]
     },
     "execution_count": 33,
     "metadata": {},
     "output_type": "execute_result"
    }
   ],
   "source": [
    "string1= \"Becomes\"\n",
    "\n",
    "string1.startswith(\"Be\")"
   ]
  },
  {
   "cell_type": "code",
   "execution_count": 35,
   "id": "11dca431-e2e5-43c8-8a09-a0e70a275cd6",
   "metadata": {},
   "outputs": [
    {
     "data": {
      "text/plain": [
       "True"
      ]
     },
     "execution_count": 35,
     "metadata": {},
     "output_type": "execute_result"
    }
   ],
   "source": [
    "string2 = \"becomes\"\n",
    "string2.startswith(\"be\")"
   ]
  },
  {
   "cell_type": "markdown",
   "id": "74491c83-a4ed-4389-84e1-ea4a15a2cf78",
   "metadata": {},
   "source": [
    "#|---Review Questions Page 27---|"
   ]
  },
  {
   "cell_type": "code",
   "execution_count": 37,
   "id": "6d7f3e0f-5945-4ff3-b52c-948b6a6a5c08",
   "metadata": {},
   "outputs": [
    {
     "name": "stdin",
     "output_type": "stream",
     "text": [
      "Type something for me to display! Hi Python!\n"
     ]
    },
    {
     "name": "stdout",
     "output_type": "stream",
     "text": [
      "Your input was:  Hi Python!\n"
     ]
    }
   ],
   "source": [
    "prompt = \"Type something for me to display!\"\n",
    "user_input = input(prompt)\n",
    "print(\"Your input was: \", user_input)"
   ]
  },
  {
   "cell_type": "code",
   "execution_count": 40,
   "id": "8957e44b-d8ce-4904-a495-db4aa41d58c9",
   "metadata": {},
   "outputs": [
    {
     "name": "stdin",
     "output_type": "stream",
     "text": [
      "Type something for me to convert into lowercase and display! Gi kapoy nakog hi na cold man siya\n"
     ]
    },
    {
     "name": "stdout",
     "output_type": "stream",
     "text": [
      "Your input was:  gi kapoy nakog hi na cold man siya\n"
     ]
    }
   ],
   "source": [
    "prompt = \"Type something for me to convert into lowercase and display!\"\n",
    "user_input = input(prompt)\n",
    "print(\"Your input was: \", user_input.lower())"
   ]
  },
  {
   "cell_type": "code",
   "execution_count": 45,
   "id": "e8a03b45-e1bc-4f52-8727-ce1cc046b419",
   "metadata": {},
   "outputs": [
    {
     "name": "stdin",
     "output_type": "stream",
     "text": [
      "Type something for me to display the lenght of your input! How many years do I have to wait?\n"
     ]
    },
    {
     "name": "stdout",
     "output_type": "stream",
     "text": [
      "Years Mag Hintay:  33\n"
     ]
    }
   ],
   "source": [
    "prompt = \"Type something for me to display the lenght of your input!\"\n",
    "user_input = input(prompt)\n",
    "print(\"Years Mag Hintay: \", len(user_input))"
   ]
  },
  {
   "cell_type": "markdown",
   "id": "262e3f98-9278-4479-8790-1169edd7adf0",
   "metadata": {},
   "source": [
    "#|---Review Questions Page 28---|\n"
   ]
  },
  {
   "cell_type": "code",
   "execution_count": 43,
   "id": "4adc4f81-d8cc-4e89-8d2f-f2f39dde1ece",
   "metadata": {},
   "outputs": [
    {
     "name": "stdin",
     "output_type": "stream",
     "text": [
      "Tell me your name khylle\n"
     ]
    },
    {
     "data": {
      "text/plain": [
       "'K'"
      ]
     },
     "execution_count": 43,
     "metadata": {},
     "output_type": "execute_result"
    }
   ],
   "source": [
    "prompt = \"Tell me your name\"\n",
    "user_input = input(prompt)\n",
    "process = user_input[0:1]\n",
    "process.upper()"
   ]
  },
  {
   "cell_type": "markdown",
   "id": "9a257ba5-2fb1-4612-b0ec-75bcf2015254",
   "metadata": {},
   "source": [
    "|---Review Questions Page 33---|"
   ]
  },
  {
   "cell_type": "code",
   "execution_count": 52,
   "id": "99e1fee9-f05b-4a29-ab90-787c2dbd1361",
   "metadata": {},
   "outputs": [
    {
     "data": {
      "text/plain": [
       "'1212'"
      ]
     },
     "execution_count": 52,
     "metadata": {},
     "output_type": "execute_result"
    }
   ],
   "source": [
    "var1 = 12\n",
    "var2 = str(var1)\n",
    "res = var2 * 2\n",
    "res"
   ]
  },
  {
   "cell_type": "code",
   "execution_count": 53,
   "id": "faeb8458-3c05-4048-928d-a5f6b39b6db9",
   "metadata": {},
   "outputs": [
    {
     "data": {
      "text/plain": [
       "'12.012.0'"
      ]
     },
     "execution_count": 53,
     "metadata": {},
     "output_type": "execute_result"
    }
   ],
   "source": [
    "var1 = 12.0\n",
    "var2 = str(var1)\n",
    "res = var2 * 2\n",
    "res"
   ]
  },
  {
   "cell_type": "code",
   "execution_count": 54,
   "id": "45c88aa5-e8e7-4ac8-83a0-12a2a4f57a53",
   "metadata": {},
   "outputs": [
    {
     "data": {
      "text/plain": [
       "'I am a string10'"
      ]
     },
     "execution_count": 54,
     "metadata": {},
     "output_type": "execute_result"
    }
   ],
   "source": [
    "string = \"I am a string\"\n",
    "num = \"10\"\n",
    "str(string + num)"
   ]
  },
  {
   "cell_type": "code",
   "execution_count": 57,
   "id": "783d0242-c6d3-4339-98c6-5c2aa1373952",
   "metadata": {},
   "outputs": [
    {
     "name": "stdin",
     "output_type": "stream",
     "text": [
      "Input a multiplicand:  10\n",
      "Input a multiplier:  5\n"
     ]
    },
    {
     "data": {
      "text/plain": [
       "50"
      ]
     },
     "execution_count": 57,
     "metadata": {},
     "output_type": "execute_result"
    }
   ],
   "source": [
    "prompt = \"Input a multiplicand: \"\n",
    "inp1 = input(prompt)\n",
    "prompt2 = \"Input a multiplier: \"\n",
    "inp2 = input(prompt2)\n",
    "res = int(inp1) * int(inp2)\n",
    "res"
   ]
  },
  {
   "cell_type": "markdown",
   "id": "3cc144b0-42f9-4caf-93a4-22d90788c15f",
   "metadata": {},
   "source": [
    "|---Review Questions Page 36---|"
   ]
  },
  {
   "cell_type": "code",
   "execution_count": 61,
   "id": "90137a66-8efa-462c-bbee-7f8bb6a92044",
   "metadata": {},
   "outputs": [
    {
     "data": {
      "text/plain": [
       "-1"
      ]
     },
     "execution_count": 61,
     "metadata": {},
     "output_type": "execute_result"
    }
   ],
   "source": [
    "\"AAA\".find(\"a\")"
   ]
  },
  {
   "cell_type": "code",
   "execution_count": 62,
   "id": "de2d22b3-4a39-4c37-be1d-454b22e3392d",
   "metadata": {},
   "outputs": [
    {
     "data": {
      "text/plain": [
       "'Somebody yaid yomething to Samantha.'"
      ]
     },
     "execution_count": 62,
     "metadata": {},
     "output_type": "execute_result"
    }
   ],
   "source": [
    "string = \"Somebody said something to Samantha.\"\n",
    "string.replace(\"s\", \"y\")"
   ]
  },
  {
   "cell_type": "code",
   "execution_count": 65,
   "id": "a289c9d8-e948-457a-8a79-b7592c3e8c07",
   "metadata": {},
   "outputs": [
    {
     "name": "stdin",
     "output_type": "stream",
     "text": [
      "Type something! and I'll try to find the letter e:  Sir, tapos na po\n"
     ]
    },
    {
     "data": {
      "text/plain": [
       "-1"
      ]
     },
     "execution_count": 65,
     "metadata": {},
     "output_type": "execute_result"
    }
   ],
   "source": [
    "prompt = \"Type something! and I'll try to find the letter e: \"\n",
    "user_input = input(prompt)\n",
    "user_input.find(\"e\")\n"
   ]
  },
  {
   "cell_type": "markdown",
   "id": "18bba266-f7df-4210-9435-3ffb7d1ca0f5",
   "metadata": {},
   "source": [
    "|---Review Questions Page 37---|\n"
   ]
  },
  {
   "cell_type": "code",
   "execution_count": 70,
   "id": "7bf8150e-1803-4bba-9f86-1c1a801cfc5e",
   "metadata": {},
   "outputs": [
    {
     "name": "stdin",
     "output_type": "stream",
     "text": [
      "Type something! I'll replace the letters accordingly! I like to eat eggs and spam.\n"
     ]
    },
    {
     "name": "stdout",
     "output_type": "stream",
     "text": [
      "1 lik3 70 347 3gg5 4nd 5p4m.\n"
     ]
    }
   ],
   "source": [
    "prompt = \"Type something! I'll replace the letters accordingly!\"\n",
    "user_input = input(prompt)\n",
    "res = user_input.replace(\"a\", \"4\").replace(\"b\", \"8\").replace(\"e\", \"3\").replace(\"I\", \"1\").replace(\"o\", \"0\").replace(\"s\", \"5\").replace(\"t\", \"7\")\n",
    "print(res)"
   ]
  },
  {
   "cell_type": "markdown",
   "id": "17ad8b60-25bb-4b68-ad9e-6f778c4ec304",
   "metadata": {},
   "source": [
    "|---This concludes my lesson 1 activity!---|"
   ]
  },
  {
   "cell_type": "code",
   "execution_count": null,
   "id": "3205dd83-9f5e-4750-a733-309f92fd90af",
   "metadata": {},
   "outputs": [],
   "source": []
  }
 ],
 "metadata": {
  "kernelspec": {
   "display_name": "Python [conda env:base] *",
   "language": "python",
   "name": "conda-base-py"
  },
  "language_info": {
   "codemirror_mode": {
    "name": "ipython",
    "version": 3
   },
   "file_extension": ".py",
   "mimetype": "text/x-python",
   "name": "python",
   "nbconvert_exporter": "python",
   "pygments_lexer": "ipython3",
   "version": "3.13.5"
  }
 },
 "nbformat": 4,
 "nbformat_minor": 5
}
