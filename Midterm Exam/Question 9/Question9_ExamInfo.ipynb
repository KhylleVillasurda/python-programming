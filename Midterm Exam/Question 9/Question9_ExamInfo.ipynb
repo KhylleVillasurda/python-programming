{
 "cells": [
  {
   "cell_type": "markdown",
   "id": "464dbe79",
   "metadata": {},
   "source": [
    "# Midterm Exam: Question 9\n",
    "\n",
    "## Villasurda, Khylle P."
   ]
  },
  {
   "cell_type": "markdown",
   "id": "0f85b133",
   "metadata": {},
   "source": [
    "## Q9. Modules and Packages: Helpers. \n",
    "Create a package helpers/ with modules\n",
    "string_utils.py (function shout(s) uppercases) and math_utils.py (function area(l,w)).\n",
    "Then a main.py that imports with both import ... as ... and from ...\n",
    "import .... Explain namespace collisions and why aliases help. Anchor con-\n",
    "cepts: modules, packages, import variations, namespaces. Reference: :contentRe-\n",
    "ference[oaicite:15]index=15"
   ]
  },
  {
   "cell_type": "markdown",
   "id": "a85d5638",
   "metadata": {},
   "source": [
    "## Prompt (Paste Verbatim)\n",
    "\n",
    "1. A package called 'helpers' containing:\n",
    "   - string_utils.py with function shout(s) that returns uppercase version\n",
    "   - math_utils.py with function area(length, width) that returns area\n",
    "\n",
    "2. A main.py file that demonstrates:\n",
    "   - Importing modules using 'import helpers.string_utils as str_utils'\n",
    "   - Importing specific functions using 'from helpers.math_utils import area'\n",
    "   - Using both imported modules/functions\n",
    "\n",
    "3. Explain:\n",
    "   - What namespace collisions are\n",
    "   - How import aliases help avoid collisions\n",
    "   - The trade-offs between different import styles"
   ]
  },
  {
   "cell_type": "markdown",
   "id": "ce4b32c0",
   "metadata": {},
   "source": [
    "## ChatGPT Code (paste verbatim)\n",
    "def shout(s):\n",
    "    return s.upper()\n",
    " \n",
    "def area(l, w):\n",
    "    return l * w\n",
    "\n",
    "import helpers.string_utils as str_utils\n",
    "from helpers.math_utils import area\n",
    "\n",
    "print(str_utils.shout(\"hello\"))\n",
    "print(area(5, 3))"
   ]
  },
  {
   "cell_type": "markdown",
   "id": "1520fe8f",
   "metadata": {},
   "source": [
    "## Critique\n",
    "\n",
    "    (i) Correctness: The basic structure and imports work, but there are several important omissions:\n",
    "\n",
    "        Missing __init__.py files to make helpers a proper package\n",
    "\n",
    "        No demonstration of namespace collisions\n",
    "\n",
    "        No explanation of import trade-offs\n",
    "\n",
    "        Very minimal functionality\n",
    "\n",
    "    (ii) Time & Space Complexity:\n",
    "\n",
    "        Time Complexity: O(1) for both functions - simple operations\n",
    "\n",
    "        Space Complexity: O(1) - no significant memory usage\n",
    "\n",
    "    (iii) Robustness:\n",
    "\n",
    "        Missing: No input validation in functions\n",
    "\n",
    "        Missing: No error handling for invalid inputs\n",
    "\n",
    "        Missing: No package initialization\n",
    "\n",
    "        Missing: No demonstration of actual namespace issues\n",
    "\n",
    "    (iv) Readability/Style (PEP 8):\n",
    "\n",
    "        Clear but overly simplistic\n",
    "\n",
    "        Missing docstrings and type hints\n",
    "\n",
    "        No proper package structure demonstration\n",
    "\n",
    "    (v) Faithfulness to Lectures:\n",
    "\n",
    "        Demonstrates basic import syntax\n",
    "\n",
    "        Missing: Comprehensive explanation of namespaces and collisions\n",
    "\n",
    "        Missing: Discussion of import trade-offs\n",
    "\n",
    "        Missing: Proper package structure with __init__.py\n",
    "\n",
    "    Key Omissions:\n",
    "\n",
    "        No __init__.py files for package recognition\n",
    "\n",
    "        No demonstration of what happens with namespace collisions\n",
    "\n",
    "        No comparison of import styles\n",
    "\n",
    "        No error handling or input validation\n",
    "\n"
   ]
  }
 ],
 "metadata": {
  "language_info": {
   "name": "python"
  }
 },
 "nbformat": 4,
 "nbformat_minor": 5
}
