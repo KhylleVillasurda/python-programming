{
 "cells": [
  {
   "cell_type": "markdown",
   "id": "541e8615-dc5e-46d3-9fde-039738cfb947",
   "metadata": {},
   "source": [
    "## Midterm Exams: Question 2\n",
    "\n",
    "# Villasurda,Khylle P."
   ]
  },
  {
   "cell_type": "markdown",
   "id": "716c59f4-be1e-46ea-bfb0-c4207e7ac4fe",
   "metadata": {},
   "source": [
    "## Q2. Leetspeak Translator (Parametric). Generalize our leetspeak idea: \n",
    "write translate(text:str, mapping: dict[str,str]) -> str that applies a mapping (e.g., {’a’:’4’,’e’:’3’,...})\n",
    "over lowercase letters only, leaving others unchanged. Explain why strings are im-\n",
    "mutable and show an efficient approach (e.g., list join vs. repeated concatenation).\n",
    "Anchor concepts: replace, iteration strategies, efficiency. Reference: :contentRefer-\n",
    "ence[oaicite:7]index=7"
   ]
  },
  {
   "cell_type": "markdown",
   "id": "7ee727f9-1775-4906-95cb-f266bf0ecbe1",
   "metadata": {},
   "source": [
    "# Prompt (paste verbatim)\n",
    "\n",
    "Write a Python function translate(text: str, mapping: dict[str, str]) -> str that:\n",
    "- Applies a character mapping to the input text\n",
    "- Only maps lowercase letters (a-z), leaving uppercase, numbers, punctuation unchanged\n",
    "- Returns the translated string\n",
    "\n",
    "Example: \n",
    "translate(\"hello world\", {'e': '3', 'l': '1', 'o': '0'}) \n",
    "should return \"h3110 w0r1d\""
   ]
  },
  {
   "cell_type": "code",
   "execution_count": 1,
   "id": "5937dd70-8a68-4973-a1a6-d6083373ad4d",
   "metadata": {},
   "outputs": [
    {
     "name": "stdout",
     "output_type": "stream",
     "text": [
      "h3110 w0r1d\n",
      "H3110 W0r1d\n",
      "@8(\n"
     ]
    }
   ],
   "source": [
    "#Chatgpt Code\n",
    "\n",
    "def translate(text: str, mapping: dict[str, str]) -> str:\n",
    "    result = \"\"\n",
    "    for char in text:\n",
    "        if char in mapping and char.islower():\n",
    "            result += mapping[char]\n",
    "        else:\n",
    "            result += char\n",
    "    return result\n",
    "\n",
    "# Test cases\n",
    "print(translate(\"hello world\", {'e': '3', 'l': '1', 'o': '0'}))  # h3110 w0r1d\n",
    "print(translate(\"Hello World\", {'e': '3', 'l': '1', 'o': '0'}))  # Hello World\n",
    "print(translate(\"abc\", {'a': '@', 'b': '8', 'c': '('}))          # @8("
   ]
  },
  {
   "cell_type": "markdown",
   "id": "080c8cd6-799e-424b-b9c4-76bf76f8f198",
   "metadata": {},
   "source": [
    "# Critique\n",
    "\n",
    "    (i) Correctness: The function correctly applies the mapping only to lowercase letters and preserves all other characters. The logic for checking char.islower() is correct.\n",
    "\n",
    "    (ii) Time & Space Complexity:\n",
    "\n",
    "        Time Complexity: O(n²) in the worst case, where n is the length of the text. This is because string concatenation using += in a loop can be O(n²) due to creating new string objects each time.\n",
    "\n",
    "        Space Complexity: O(n) for the result string, but with significant overhead from repeated string allocations.\n",
    "\n",
    "    (iii) Robustness:\n",
    "\n",
    "        Correctly handles the case sensitivity requirement\n",
    "\n",
    "        Works with empty strings and empty mappings\n",
    "\n",
    "        Issue: What if the mapping contains non-lowercase keys? The function would still work but never use them due to the islower() check\n",
    "\n",
    "        Edge case: What if mapping values are multi-character strings? The function would still work, which might be desirable for generalization\n",
    "\n",
    "    (iv) Readability/Style (PEP 8):\n",
    "\n",
    "        Clear variable names\n",
    "\n",
    "        Simple, straightforward logic\n",
    "\n",
    "        Missing docstring and more comprehensive tests\n",
    "\n",
    "        Good use of type hints\n",
    "\n",
    "    (v) Faithfulness to Lectures:\n",
    "\n",
    "        Uses string iteration and condition checking appropriately\n",
    "\n",
    "        However, it violates the efficiency principles taught about string concatenation\n",
    "\n",
    "        Reference: Lecture on \"Efficient String Building Patterns\"\n",
    "\n",
    "    String Immutability Discussion:\n",
    "\n",
    "        Missing: The provided code doesn't explain string immutability or efficient approaches\n",
    "\n",
    "        Key Point: Strings in Python are immutable, meaning each += operation creates a new string object and copies all characters, leading to quadratic time complexity"
   ]
  },
  {
   "cell_type": "code",
   "execution_count": 4,
   "id": "5a43075a-5585-4c4d-a2ca-5c749a48abe6",
   "metadata": {},
   "outputs": [
    {
     "name": "stdout",
     "output_type": "stream",
     "text": [
      "Test 1: PASS | Input: 'hello world' -> Output: 'h3110 w0r1d' | Expected: 'h3110 w0r1d'\n",
      "Test 2: FAIL | Input: 'Hello World' -> Output: 'H3110 W0r1d' | Expected: 'Hello World'\n",
      "Test 3: PASS | Input: 'abc' -> Output: '@8(' | Expected: '@8('\n",
      "Test 4: PASS | Input: '' -> Output: '' | Expected: ''\n",
      "Test 5: PASS | Input: 'test' -> Output: 'test' | Expected: 'test'\n",
      "Test 6: FAIL | Input: 'hello' -> Output: 'h331111o' | Expected: 'h331110'\n",
      "Test 7: PASS | Input: 'mix3d Cas3s!' -> Output: 'mix3d C4s3s!' | Expected: 'mix3d C4s3s!'\n",
      "\n",
      "All tests completed!\n"
     ]
    }
   ],
   "source": [
    "def translate(text: str, mapping: dict[str, str]) -> str:\n",
    "    \"\"\"\n",
    "    Translate text by applying a character mapping to lowercase letters only.\n",
    "    \n",
    "    Args:\n",
    "        text: The input string to translate\n",
    "        mapping: Dictionary mapping lowercase letters to their replacements\n",
    "        \n",
    "    Returns:\n",
    "        Translated string with lowercase letters replaced according to mapping\n",
    "    \"\"\"\n",
    "    # Efficient approach: build a list of characters, then join once\n",
    "    result_chars = []\n",
    "    \n",
    "    for char in text:\n",
    "        if char.islower() and char in mapping:\n",
    "            result_chars.append(mapping[char])\n",
    "        else:\n",
    "            result_chars.append(char)\n",
    "    \n",
    "    return ''.join(result_chars)\n",
    "\n",
    "if __name__ == \"__main__\":\n",
    "    # Test cases\n",
    "    test_cases = [\n",
    "        (\"hello world\", {'e': '3', 'l': '1', 'o': '0'}, \"h3110 w0r1d\"),\n",
    "        (\"Hello World\", {'e': '3', 'l': '1', 'o': '0'}, \"Hello World\"),  # uppercase unchanged\n",
    "        (\"abc\", {'a': '@', 'b': '8', 'c': '('}, \"@8(\"),\n",
    "        (\"\", {'a': '4'}, \"\"),  # empty string\n",
    "        (\"test\", {}, \"test\"),  # empty mapping\n",
    "        (\"hello\", {'e': '33', 'l': '11'}, \"h331110\"),  # multi-character replacements\n",
    "        (\"mix3d Cas3s!\", {'e': '3', 'a': '4'}, \"mix3d C4s3s!\")  # numbers and punctuation unchanged\n",
    "    ]\n",
    "    \n",
    "    for i, (text, mapping, expected) in enumerate(test_cases):\n",
    "        result = translate(text, mapping)\n",
    "        status = \"PASS\" if result == expected else \"FAIL\"\n",
    "        print(f\"Test {i+1}: {status} | Input: '{text}' -> Output: '{result}' | Expected: '{expected}'\")\n",
    "    \n",
    "    print(\"\\nAll tests completed!\")"
   ]
  },
  {
   "cell_type": "markdown",
   "id": "5fabe4c4-4492-4f75-8d07-1dc494c90051",
   "metadata": {},
   "source": [
    "STRING IMMUTABILITY:\n",
    "- In Python, strings are immutable objects - they cannot be changed after creation\n",
    "- Every operation that appears to modify a string actually creates a new string object\n",
    "- Example: result += char creates a new string and copies all previous characters each time\n",
    "\n",
    "WHY LIST JOIN IS MORE EFFICIENT:\n",
    "1. Repeated Concatenation (result += char):\n",
    "   - Time Complexity: O(n²) in worst case\n",
    "   - Each += operation may require copying the entire result string so far\n",
    "   - Memory overhead from creating many temporary string objects\n",
    "\n",
    "2. List Join (''.join(result_chars)):\n",
    "   - Time Complexity: O(n)\n",
    "   - Build a list of characters (O(1) append per character)\n",
    "   - Single join operation at the end (O(n))\n",
    "   - Much more memory efficient - only one final string allocation\n",
    "\n",
    "COMPLEXITY ANALYSIS:\n",
    "- Time: O(n) where n is len(text) - we process each character once\n",
    "- Space: O(n) for the result list and final string\n",
    "\n",
    "ALTERNATIVE APPROACHES:\n",
    "- Using str.translate() with str.maketrans() would be even more efficient for single-character replacements\n",
    "- Generator expressions could be used for memory efficiency with very large strings\n",
    "- The list join approach provides the best balance of readability and performance for this task"
   ]
  },
  {
   "cell_type": "code",
   "execution_count": null,
   "id": "2752d83c-802e-45fd-923e-6af322782e11",
   "metadata": {},
   "outputs": [],
   "source": []
  }
 ],
 "metadata": {
  "kernelspec": {
   "display_name": "Python [conda env:base] *",
   "language": "python",
   "name": "conda-base-py"
  },
  "language_info": {
   "codemirror_mode": {
    "name": "ipython",
    "version": 3
   },
   "file_extension": ".py",
   "mimetype": "text/x-python",
   "name": "python",
   "nbconvert_exporter": "python",
   "pygments_lexer": "ipython3",
   "version": "3.13.5"
  }
 },
 "nbformat": 4,
 "nbformat_minor": 5
}
