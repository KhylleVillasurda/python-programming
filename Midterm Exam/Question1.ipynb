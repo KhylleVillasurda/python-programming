{
 "cells": [
  {
   "cell_type": "markdown",
   "id": "0590f162-abde-45e6-aec0-47a5a855bb7e",
   "metadata": {},
   "source": [
    "# Python Midterm Exams\n",
    "\n",
    "## Villasurda, Khylle, P."
   ]
  },
  {
   "cell_type": "markdown",
   "id": "7b7fd8d8-6be6-4fc8-a823-bf5215fbe527",
   "metadata": {},
   "source": [
    "Q1. String Normalizer & Finder. Write a function normalize_and_find(text:\n",
    "str, needle: str) -> int that: (1) trims whitespace on both ends, (2) con-\n",
    "verts to lowercase, then (3) returns the index of the first occurrence of needle using\n",
    "a safe search (return −1 if not found). Discuss alternatives (find vs. index), and\n",
    "how your choice affects error handling. Anchor concepts: stripping, case conversion,\n",
    "find/replace, string immutability. Reference: :contentReference[oaicite:6]index=6x"
   ]
  },
  {
   "cell_type": "markdown",
   "id": "b49e6780-a49a-446a-bad7-d62fca86278a",
   "metadata": {},
   "source": [
    "# Prompt (paste verbatim)\n",
    "\n",
    "Write a Python function normalize_and_find(text: str, needle: str) -> int that:\n",
    "\n",
    "    Trims whitespace from both ends of text\n",
    "\n",
    "    Converts the trimmed text to lowercase\n",
    "\n",
    "    Returns the index of the first occurrence of needle using a safe search (return -1 if not found)\n",
    "    Discuss the difference between using find() vs index() for this task and how it affects error handling."
   ]
  },
  {
   "cell_type": "code",
   "execution_count": 1,
   "id": "83bded81-9188-433d-96b5-59f88348cbf6",
   "metadata": {},
   "outputs": [],
   "source": [
    "# ChatGPT Code (paste verbatim)\n",
    "\n",
    "def normalize_and_find(text: str, needle: str) -> int:\n",
    "    # Trim whitespace and convert to lowercase\n",
    "    normalized_text = text.strip().lower()\n",
    "    \n",
    "    # Use find() for safe search (returns -1 if not found)\n",
    "    result = normalized_text.find(needle.lower())\n",
    "    \n",
    "    return result"
   ]
  },
  {
   "cell_type": "markdown",
   "id": "c29aabb3-c6b4-4b0c-9cf0-30b3b1e64548",
   "metadata": {},
   "source": [
    "Critique\n",
    "\n",
    "    (i) Correctness: The function follows and  implements all three requirements:\n",
    "\n",
    "        text.strip() removes whitespace from both ends\n",
    "\n",
    "        .lower() converts the text to lowercase\n",
    "\n",
    "        .find() safely returns -1 if the substring is not found\n",
    "\n",
    "       It also converts needle to lowercase to match the normalized text\n",
    "\n",
    "    (ii) Time & Space Complexity:\n",
    "\n",
    "        Time Complexity: O(n + m) where n is the length of text and m is the length of needle. This comes from the string (strip(), lower(), find()) which they all require scanning the strings.\n",
    "\n",
    "        Space Complexity: O(n) since strip() and lower() create new string objects due to string immutability. The original text remains unchanged.\n",
    "\n",
    "    (iii) Robustness:\n",
    "\n",
    "        Handles empty strings\n",
    "\n",
    "        Handles cases where needle is longer than the normalized text\n",
    "\n",
    "        Properly handles None inputs? I dont think so but it would raise an AttributeError, but the type hint suggests str is expected\n",
    "\n",
    "        Edge case consideration: What if needle contains whitespace? The spec doesn't say t\n",
    "         normalize the needle beyond case conversion, so this is correct behavior\n",
    "\n",
    "    (iv) Readability/Style (PEP 8):\n",
    "\n",
    "        better variable naming (normalized_text is clear)\n",
    "\n",
    "        Includes type hints as specified\n",
    "\n",
    "        Comments are helpful but somewhat redundant with the code\n",
    "\n",
    "    (v) Faithfulness to Lectures:\n",
    "\n",
    "        Used string methods (strip(), lower(), find())\n",
    "\n",
    "        Demonstrates understanding of string immutability by chaining methods\n",
    "\n",
    "    Discussion of find() vs index():\n",
    "\n",
    "        find(): Returns -1 when substring is not found.\n",
    "\n",
    "        index(): Raises ValueError when substring is not found."
   ]
  },
  {
   "cell_type": "code",
   "execution_count": 2,
   "id": "271fb995-cd8e-40d7-8239-fb4e4a5a4607",
   "metadata": {},
   "outputs": [
    {
     "name": "stdout",
     "output_type": "stream",
     "text": [
      "All tests passed!\n"
     ]
    },
    {
     "data": {
      "text/plain": [
       "'\\nString Search Method Trade-offs:\\n\\nfind() vs index():\\n- find(): Returns -1 when substring is not found. This is \"safe\" and ideal for \\n  most use cases where not finding something is a normal outcome that doesn\\'t \\n  require program termination.\\n  \\n- index(): Raises ValueError when substring is not found. This is useful when \\n  the presence of the substring is required for correct program operation, and \\n  its absence represents an exceptional condition.\\n\\nFor this function, find() is the appropriate choice because:\\n1. The specification explicitly requires returning -1 for not found\\n2. Not finding a substring is an expected, non-exceptional case\\n3. It avoids the overhead and complexity of try-except blocks\\n4. It provides cleaner control flow for the caller\\n\\nAlternative Considerations:\\n- We could use the \\'in\\' operator first, then index(), but this would require \\n  two passes over the string and is less efficient.\\n- For case-insensitive search without full normalization, we could use \\n  regex with re.IGNORECASE, but this would require importing re and is \\n  overkill for this simple case.\\n\\nThe chosen approach using find() with full normalization is the most \\nstraightforward and matches the problem requirements exactly.\\n'"
      ]
     },
     "execution_count": 2,
     "metadata": {},
     "output_type": "execute_result"
    }
   ],
   "source": [
    "#Improved Code\n",
    "\n",
    "def normalize_and_find(text: str, needle: str) -> int:\n",
    "    \"\"\"\n",
    "    Normalize text by trimming whitespace and converting to lowercase,\n",
    "    then safely find the first occurrence of needle.\n",
    "    \n",
    "    Args:\n",
    "        text: The input string to normalize and search\n",
    "        needle: The substring to find (case will be normalized)\n",
    "        \n",
    "    Returns:\n",
    "        The index of the first occurrence of needle in the normalized text,\n",
    "        or -1 if needle is not found.\n",
    "    \"\"\"\n",
    "    # Normalize the input text: trim whitespace and convert to lowercase\n",
    "    normalized_text = text.strip().lower()\n",
    "    normalized_needle = needle.lower()\n",
    "    \n",
    "    # Use find() for safe search - returns -1 if needle is not found\n",
    "    return normalized_text.find(normalized_needle)\n",
    "\n",
    "\n",
    "if __name__ == \"__main__\":\n",
    "    # Test cases\n",
    "    assert normalize_and_find(\"  Hello World  \", \"hello\") == 0\n",
    "    assert normalize_and_find(\"  Hello World  \", \"world\") == 6\n",
    "    assert normalize_and_find(\"  Hello World  \", \"python\") == -1\n",
    "    assert normalize_and_find(\"\", \"test\") == -1\n",
    "    assert normalize_and_find(\"  TEST  \", \"test\") == 0\n",
    "    assert normalize_and_find(\"  Mixed CASE \", \"mixed\") == 0\n",
    "    assert normalize_and_find(\"NoExtraSpaces\", \"no\") == 0\n",
    "    assert normalize_and_find(\"  Needle with spaces  \", \"with spaces\") == 7\n",
    "    \n",
    "    print(\"All tests passed!\")\n",
    "\n",
    "# Discussion: find() vs index()\n",
    "\"\"\"\n",
    "String Search Method Trade-offs:\n",
    "\n",
    "find() vs index():\n",
    "- find(): Returns -1 when substring is not found. This is \"safe\" and ideal for \n",
    "  most use cases where not finding something is a normal outcome that doesn't \n",
    "  require program termination.\n",
    "  \n",
    "- index(): Raises ValueError when substring is not found. This is useful when \n",
    "  the presence of the substring is required for correct program operation, and \n",
    "  its absence represents an exceptional condition.\n",
    "\n",
    "For this function, find() is the appropriate choice because:\n",
    "1. The specification explicitly requires returning -1 for not found\n",
    "2. Not finding a substring is an expected, non-exceptional case\n",
    "3. It avoids the overhead and complexity of try-except blocks\n",
    "4. It provides cleaner control flow for the caller\n",
    "\n",
    "Alternative Considerations:\n",
    "- We could use the 'in' operator first, then index(), but this would require \n",
    "  two passes over the string and is less efficient.\n",
    "- For case-insensitive search without full normalization, we could use \n",
    "  regex with re.IGNORECASE, but this would require importing re and is \n",
    "  overkill for this simple case.\n",
    "\n",
    "The chosen approach using find() with full normalization is the most \n",
    "straightforward and matches the problem requirements exactly.\n",
    "\"\"\""
   ]
  }
 ],
 "metadata": {
  "kernelspec": {
   "display_name": "base",
   "language": "python",
   "name": "python3"
  },
  "language_info": {
   "codemirror_mode": {
    "name": "ipython",
    "version": 3
   },
   "file_extension": ".py",
   "mimetype": "text/x-python",
   "name": "python",
   "nbconvert_exporter": "python",
   "pygments_lexer": "ipython3",
   "version": "3.13.5"
  }
 },
 "nbformat": 4,
 "nbformat_minor": 5
}
